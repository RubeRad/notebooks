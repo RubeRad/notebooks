{
 "cells": [
  {
   "cell_type": "markdown",
   "metadata": {},
   "source": [
    "# This is a level 1 Heading\n",
    "Introductory paragraph goes here to describe overall context. These are basically just text boxes with some basic formatting capabilities\n",
    "## Level 2 Heading\n",
    "Here's a little description of this part, which will be illustrated by the code below. Prose cells like these get interspersed with code cells, so math can be done practically, and then discussed more verbally."
   ]
  },
  {
   "cell_type": "code",
   "execution_count": null,
   "metadata": {},
   "outputs": [],
   "source": [
    "numba = 1\n",
    "print(\"Lookit, I got a numba:\", numba)\n",
    "for i in range(15):\n",
    "    numba = numba+1\n",
    "    print(\"Lookit, it got bigger:\", numba)\n",
    "    "
   ]
  },
  {
   "cell_type": "markdown",
   "metadata": {},
   "source": [
    "## Next Section\n",
    "Well that was interesting, can numbas also get smaller? Let's see in another code box:"
   ]
  },
  {
   "cell_type": "code",
   "execution_count": null,
   "metadata": {},
   "outputs": [],
   "source": [
    "print(\"Lookit, I still have this numba:\", numba)\n",
    "for i in range(5):\n",
    "    numba = numba/2\n",
    "    print(\"Lookit, it got smaller:\", numba)"
   ]
  },
  {
   "cell_type": "markdown",
   "metadata": {},
   "source": [
    "## Hey it's another section\n",
    "Let's see if we can make a graph"
   ]
  },
  {
   "cell_type": "code",
   "execution_count": null,
   "metadata": {},
   "outputs": [],
   "source": [
    "# These two lines are needed to set up plotting\n",
    "%matplotlib notebook\n",
    "import matplotlib.pyplot as plt\n",
    "import math # so we can do trig stuff\n",
    "\n",
    "# Let's populate x and y coordinates for some plots\n",
    "exes = []\n",
    "whys = []\n",
    "wise = []\n",
    "for i in range(0,360,10): # 10 degree increments\n",
    "    x = math.radians(i) # convert to radians\n",
    "    exes.append(x)\n",
    "    whys.append(math.sin(x)*2)\n",
    "    wise.append(math.cos(x*2))\n",
    "plt.scatter(exes, whys, c='blue')\n",
    "plt.plot   (exes, wise, c='red')\n",
    "plt.show()"
   ]
  },
  {
   "cell_type": "markdown",
   "metadata": {},
   "source": [
    "Wow that looks so cool! Note the graph is interactive! If you roam the mouse in the graph, you can see X,Y coordinates. If you click the + button you can pan/zoom the view with the mouse. The next button allows you to zoom into a specific rectangle. If you get lost, the home will reset it. (I don't really know what the prev/next view arrows do, I guess you can set up a series of graphs?)"
   ]
  },
  {
   "cell_type": "code",
   "execution_count": null,
   "metadata": {},
   "outputs": [],
   "source": []
  }
 ],
 "metadata": {
  "kernelspec": {
   "display_name": "Python 3",
   "language": "python",
   "name": "python3"
  },
  "language_info": {
   "codemirror_mode": {
    "name": "ipython",
    "version": 3
   },
   "file_extension": ".py",
   "mimetype": "text/x-python",
   "name": "python",
   "nbconvert_exporter": "python",
   "pygments_lexer": "ipython3",
   "version": "3.6.5"
  }
 },
 "nbformat": 4,
 "nbformat_minor": 2
}
